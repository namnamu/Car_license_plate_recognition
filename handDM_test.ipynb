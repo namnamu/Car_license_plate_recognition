{
 "cells": [
  {
   "cell_type": "code",
   "execution_count": null,
   "metadata": {},
   "outputs": [],
   "source": [
    "# 참고 문헌: https://saynot.tistory.com/entry/Deep-Learning-MNIST-%EC%86%90%EA%B8%80%EC%94%A8-%EC%88%AB%EC%9E%90-%EC%9D%B4%EB%AF%B8%EC%A7%80-%EC%9D%B8%EC%8B%9D%ED%95%B4%EB%B3%B4%EA%B8%B0"
   ]
  },
  {
   "cell_type": "code",
   "execution_count": 1,
   "metadata": {},
   "outputs": [
    {
     "name": "stdout",
     "output_type": "stream",
     "text": [
      "WARNING:tensorflow:From d:\\Users\\skadl\\anaconda3\\envs\\OCR\\lib\\site-packages\\keras\\src\\losses.py:2976: The name tf.losses.sparse_softmax_cross_entropy is deprecated. Please use tf.compat.v1.losses.sparse_softmax_cross_entropy instead.\n",
      "\n"
     ]
    }
   ],
   "source": [
    "from keras.datasets import mnist"
   ]
  },
  {
   "cell_type": "code",
   "execution_count": 2,
   "metadata": {},
   "outputs": [
    {
     "name": "stdout",
     "output_type": "stream",
     "text": [
      "학습셋 이미지 수 : 60000 개\n",
      "테스트셋 이미지 수 : 10000 개\n"
     ]
    }
   ],
   "source": [
    "(X_train, Y_class_train), (X_test, Y_class_test) = mnist.load_data()\n",
    "print(\"학습셋 이미지 수 : %d 개\" % (X_train.shape[0]))\n",
    "print(\"테스트셋 이미지 수 : %d 개\" % (X_test.shape[0]))"
   ]
  },
  {
   "cell_type": "code",
   "execution_count": 18,
   "metadata": {},
   "outputs": [
    {
     "data": {
      "image/png": "[encoded data removed]",
      "text/plain": [
       "<Figure size 640x480 with 1 Axes>"
      ]
     },
     "metadata": {},
     "output_type": "display_data"
    },
    {
     "name": "stdout",
     "output_type": "stream",
     "text": [
      "000  000  000  000  000  000  000  000  000  000  000  000  000  000  000  000  000  000  000  000  000  000  000  000  000  000  000  000  \n",
      "000  000  000  000  000  000  000  000  000  000  000  000  000  000  000  000  000  000  000  000  000  000  000  000  000  000  000  000  \n",
      "000  000  000  000  000  000  000  000  000  000  000  000  000  000  000  000  000  000  000  000  000  000  000  000  000  000  000  000  \n",
      "000  000  000  000  000  000  000  000  000  000  000  000  000  000  000  000  000  000  000  000  000  000  000  000  000  000  000  000  \n",
      "000  000  000  000  000  000  000  000  000  000  000  000  000  000  000  000  000  000  000  000  000  000  000  000  000  000  000  000  \n",
      "000  000  000  000  000  000  000  000  000  000  000  000  003  018  018  018  126  136  175  026  166  255  247  127  000  000  000  000  \n",
      "000  000  000  000  000  000  000  000  030  036  094  154  170  253  253  253  253  253  225  172  253  242  195  064  000  000  000  000  \n",
      "000  000  000  000  000  000  000  049  238  253  253  253  253  253  253  253  253  251  093  082  082  056  039  000  000  000  000  000  \n",
      "000  000  000  000  000  000  000  018  219  253  253  253  253  253  198  182  247  241  000  000  000  000  000  000  000  000  000  000  \n",
      "000  000  000  000  000  000  000  000  080  156  107  253  253  205  011  000  043  154  000  000  000  000  000  000  000  000  000  000  \n",
      "000  000  000  000  000  000  000  000  000  014  001  154  253  090  000  000  000  000  000  000  000  000  000  000  000  000  000  000  \n",
      "000  000  000  000  000  000  000  000  000  000  000  139  253  190  002  000  000  000  000  000  000  000  000  000  000  000  000  000  \n",
      "000  000  000  000  000  000  000  000  000  000  000  011  190  253  070  000  000  000  000  000  000  000  000  000  000  000  000  000  \n",
      "000  000  000  000  000  000  000  000  000  000  000  000  035  241  225  160  108  001  000  000  000  000  000  000  000  000  000  000  \n",
      "000  000  000  000  000  000  000  000  000  000  000  000  000  081  240  253  253  119  025  000  000  000  000  000  000  000  000  000  \n",
      "000  000  000  000  000  000  000  000  000  000  000  000  000  000  045  186  253  253  150  027  000  000  000  000  000  000  000  000  \n",
      "000  000  000  000  000  000  000  000  000  000  000  000  000  000  000  016  093  252  253  187  000  000  000  000  000  000  000  000  \n",
      "000  000  000  000  000  000  000  000  000  000  000  000  000  000  000  000  000  249  253  249  064  000  000  000  000  000  000  000  \n",
      "000  000  000  000  000  000  000  000  000  000  000  000  000  000  046  130  183  253  253  207  002  000  000  000  000  000  000  000  \n",
      "000  000  000  000  000  000  000  000  000  000  000  000  039  148  229  253  253  253  250  182  000  000  000  000  000  000  000  000  \n",
      "000  000  000  000  000  000  000  000  000  000  024  114  221  253  253  253  253  201  078  000  000  000  000  000  000  000  000  000  \n",
      "000  000  000  000  000  000  000  000  023  066  213  253  253  253  253  198  081  002  000  000  000  000  000  000  000  000  000  000  \n",
      "000  000  000  000  000  000  018  171  219  253  253  253  253  195  080  009  000  000  000  000  000  000  000  000  000  000  000  000  \n",
      "000  000  000  000  055  172  226  253  253  253  253  244  133  011  000  000  000  000  000  000  000  000  000  000  000  000  000  000  \n",
      "000  000  000  000  136  253  253  253  212  135  132  016  000  000  000  000  000  000  000  000  000  000  000  000  000  000  000  000  \n",
      "000  000  000  000  000  000  000  000  000  000  000  000  000  000  000  000  000  000  000  000  000  000  000  000  000  000  000  000  \n",
      "000  000  000  000  000  000  000  000  000  000  000  000  000  000  000  000  000  000  000  000  000  000  000  000  000  000  000  000  \n",
      "000  000  000  000  000  000  000  000  000  000  000  000  000  000  000  000  000  000  000  000  000  000  000  000  000  000  000  000  \n",
      "[0 0 0 0 0 0 0 0 0 0 0 0 0 0 0 0 0 0 0 0 0 0 0 0 0 0 0 0]\n",
      "0\n",
      "5\n"
     ]
    }
   ],
   "source": [
    "# 이미지 형태 출력을 위한 pyplot 모듈 import\n",
    "import matplotlib.pyplot as plt\n",
    "# 위 60000개 데이터 배열에서 0번째 원소를 흑백으로 출력\n",
    "plt.imshow(X_train[0], cmap='Greys')\n",
    "plt.show()\n",
    "\n",
    "################################\n",
    "import sys\n",
    "# 0번째 원소의 모든 데이터를 출력\n",
    "for x in X_train[0]:\n",
    "    for i in x:\n",
    "        sys.stdout.write('%03d  ' % i)\n",
    "    sys.stdout.write('\\n')\n",
    "\n",
    "print(X_train[0][0])#첫번째 줄\n",
    "print(X_train[0][27][27])# 마지막 줄 픽셀 정보 출력\n",
    "print(Y_class_train[0])# 0번 원소 클래스 라벨링 정보"
   ]
  },
  {
   "cell_type": "code",
   "execution_count": 8,
   "metadata": {},
   "outputs": [
    {
     "name": "stdout",
     "output_type": "stream",
     "text": [
      "WARNING:tensorflow:From d:\\Users\\skadl\\anaconda3\\envs\\OCR\\lib\\site-packages\\keras\\src\\backend.py:873: The name tf.get_default_graph is deprecated. Please use tf.compat.v1.get_default_graph instead.\n",
      "\n",
      "WARNING:tensorflow:From d:\\Users\\skadl\\anaconda3\\envs\\OCR\\lib\\site-packages\\keras\\src\\optimizers\\__init__.py:309: The name tf.train.Optimizer is deprecated. Please use tf.compat.v1.train.Optimizer instead.\n",
      "\n",
      "Epoch 1/30\n",
      "WARNING:tensorflow:From d:\\Users\\skadl\\anaconda3\\envs\\OCR\\lib\\site-packages\\keras\\src\\utils\\tf_utils.py:492: The name tf.ragged.RaggedTensorValue is deprecated. Please use tf.compat.v1.ragged.RaggedTensorValue instead.\n",
      "\n",
      "WARNING:tensorflow:From d:\\Users\\skadl\\anaconda3\\envs\\OCR\\lib\\site-packages\\keras\\src\\engine\\base_layer_utils.py:384: The name tf.executing_eagerly_outside_functions is deprecated. Please use tf.compat.v1.executing_eagerly_outside_functions instead.\n",
      "\n",
      "300/300 - 7s - loss: 0.3041 - accuracy: 0.9147 - val_loss: 0.1522 - val_accuracy: 0.9555 - 7s/epoch - 22ms/step\n",
      "Epoch 2/30\n",
      "300/300 - 4s - loss: 0.1265 - accuracy: 0.9637 - val_loss: 0.1053 - val_accuracy: 0.9687 - 4s/epoch - 12ms/step\n",
      "Epoch 3/30\n",
      "300/300 - 3s - loss: 0.0831 - accuracy: 0.9762 - val_loss: 0.0827 - val_accuracy: 0.9754 - 3s/epoch - 11ms/step\n",
      "Epoch 4/30\n",
      "300/300 - 3s - loss: 0.0604 - accuracy: 0.9825 - val_loss: 0.0758 - val_accuracy: 0.9756 - 3s/epoch - 9ms/step\n",
      "Epoch 5/30\n",
      "300/300 - 3s - loss: 0.0466 - accuracy: 0.9868 - val_loss: 0.0683 - val_accuracy: 0.9780 - 3s/epoch - 9ms/step\n",
      "Epoch 6/30\n",
      "300/300 - 3s - loss: 0.0354 - accuracy: 0.9899 - val_loss: 0.0643 - val_accuracy: 0.9790 - 3s/epoch - 10ms/step\n",
      "Epoch 7/30\n",
      "300/300 - 3s - loss: 0.0267 - accuracy: 0.9929 - val_loss: 0.0614 - val_accuracy: 0.9804 - 3s/epoch - 9ms/step\n",
      "Epoch 8/30\n",
      "300/300 - 3s - loss: 0.0210 - accuracy: 0.9949 - val_loss: 0.0608 - val_accuracy: 0.9810 - 3s/epoch - 9ms/step\n",
      "Epoch 9/30\n",
      "300/300 - 3s - loss: 0.0151 - accuracy: 0.9964 - val_loss: 0.0617 - val_accuracy: 0.9805 - 3s/epoch - 9ms/step\n",
      "Epoch 10/30\n",
      "300/300 - 3s - loss: 0.0130 - accuracy: 0.9970 - val_loss: 0.0648 - val_accuracy: 0.9804 - 3s/epoch - 9ms/step\n",
      "Epoch 11/30\n",
      "300/300 - 3s - loss: 0.0100 - accuracy: 0.9982 - val_loss: 0.0620 - val_accuracy: 0.9812 - 3s/epoch - 10ms/step\n",
      "Epoch 12/30\n",
      "300/300 - 3s - loss: 0.0073 - accuracy: 0.9988 - val_loss: 0.0642 - val_accuracy: 0.9810 - 3s/epoch - 10ms/step\n",
      "Epoch 13/30\n",
      "300/300 - 3s - loss: 0.0060 - accuracy: 0.9994 - val_loss: 0.0595 - val_accuracy: 0.9825 - 3s/epoch - 9ms/step\n",
      "Epoch 14/30\n",
      "300/300 - 3s - loss: 0.0045 - accuracy: 0.9994 - val_loss: 0.0602 - val_accuracy: 0.9823 - 3s/epoch - 9ms/step\n",
      "Epoch 15/30\n",
      "300/300 - 3s - loss: 0.0029 - accuracy: 0.9999 - val_loss: 0.0607 - val_accuracy: 0.9823 - 3s/epoch - 9ms/step\n",
      "Epoch 16/30\n",
      "300/300 - 3s - loss: 0.0054 - accuracy: 0.9988 - val_loss: 0.0721 - val_accuracy: 0.9796 - 3s/epoch - 10ms/step\n",
      "Epoch 17/30\n",
      "300/300 - 3s - loss: 0.0103 - accuracy: 0.9967 - val_loss: 0.0760 - val_accuracy: 0.9786 - 3s/epoch - 10ms/step\n",
      "Epoch 18/30\n",
      "300/300 - 3s - loss: 0.0058 - accuracy: 0.9986 - val_loss: 0.0639 - val_accuracy: 0.9817 - 3s/epoch - 11ms/step\n",
      "Epoch 19/30\n",
      "300/300 - 3s - loss: 0.0019 - accuracy: 0.9998 - val_loss: 0.0621 - val_accuracy: 0.9832 - 3s/epoch - 10ms/step\n",
      "Epoch 20/30\n",
      "300/300 - 3s - loss: 8.2366e-04 - accuracy: 1.0000 - val_loss: 0.0643 - val_accuracy: 0.9835 - 3s/epoch - 10ms/step\n",
      "Epoch 21/30\n",
      "300/300 - 2s - loss: 5.9193e-04 - accuracy: 1.0000 - val_loss: 0.0649 - val_accuracy: 0.9830 - 2s/epoch - 8ms/step\n",
      "Epoch 22/30\n",
      "300/300 - 3s - loss: 4.9769e-04 - accuracy: 1.0000 - val_loss: 0.0657 - val_accuracy: 0.9832 - 3s/epoch - 11ms/step\n",
      "Epoch 23/30\n",
      "300/300 - 3s - loss: 4.2216e-04 - accuracy: 1.0000 - val_loss: 0.0665 - val_accuracy: 0.9829 - 3s/epoch - 11ms/step\n",
      "Epoch 24/30\n",
      "300/300 - 3s - loss: 3.7092e-04 - accuracy: 1.0000 - val_loss: 0.0671 - val_accuracy: 0.9828 - 3s/epoch - 11ms/step\n",
      "Epoch 25/30\n",
      "300/300 - 3s - loss: 3.2754e-04 - accuracy: 1.0000 - val_loss: 0.0678 - val_accuracy: 0.9832 - 3s/epoch - 11ms/step\n",
      "Epoch 26/30\n",
      "300/300 - 3s - loss: 2.8397e-04 - accuracy: 1.0000 - val_loss: 0.0675 - val_accuracy: 0.9831 - 3s/epoch - 10ms/step\n",
      "Epoch 27/30\n",
      "300/300 - 3s - loss: 2.4683e-04 - accuracy: 1.0000 - val_loss: 0.0691 - val_accuracy: 0.9832 - 3s/epoch - 9ms/step\n",
      "Epoch 28/30\n",
      "300/300 - 3s - loss: 2.2130e-04 - accuracy: 1.0000 - val_loss: 0.0692 - val_accuracy: 0.9836 - 3s/epoch - 11ms/step\n",
      "Epoch 29/30\n",
      "300/300 - 3s - loss: 1.9763e-04 - accuracy: 1.0000 - val_loss: 0.0701 - val_accuracy: 0.9829 - 3s/epoch - 11ms/step\n",
      "Epoch 30/30\n",
      "300/300 - 3s - loss: 1.6988e-04 - accuracy: 1.0000 - val_loss: 0.0709 - val_accuracy: 0.9832 - 3s/epoch - 10ms/step\n",
      "1875/1875 [==============================] - 5s 3ms/step - loss: 1.4102e-04 - accuracy: 1.0000\n",
      "\n",
      "Accuracy: 1.0000\n",
      "313/313 [==============================] - 1s 3ms/step - loss: 0.0709 - accuracy: 0.9832\n",
      "\n",
      "Val_Accuracy: 0.9832\n"
     ]
    },
    {
     "name": "stderr",
     "output_type": "stream",
     "text": [
      "d:\\Users\\skadl\\anaconda3\\envs\\OCR\\lib\\site-packages\\keras\\src\\engine\\training.py:3103: UserWarning: You are saving your model as an HDF5 file via `model.save()`. This file format is considered legacy. We recommend using instead the native Keras format, e.g. `model.save('my_model.keras')`.\n",
      "  saving_api.save_model(\n"
     ]
    }
   ],
   "source": [
    "# 딥러닝에 필요한 케라스 함수 호출\n",
    "from tensorflow.python.keras.utils import np_utils\n",
    "from keras.models import Sequential\n",
    "from keras.layers import Dense\n",
    "\n",
    "# 필요 라이브러리 호출\n",
    "import numpy\n",
    "import tensorflow as tf\n",
    "\n",
    "# 데이터 셋 호출\n",
    "from keras.datasets import mnist\n",
    "\n",
    "# 실행 시마다 같은 결과값 도출을 위한 시드 설정\n",
    "numpy.random.seed(0)\n",
    "tf.random.set_seed(0)\n",
    "\n",
    "# 데이터를 불러와서 각 변수에 저장\n",
    "(X_train, Y_train), (X_test, Y_test) = mnist.load_data()\n",
    "\n",
    "# 학습에 적합한 형태로 데이터 가공\n",
    "# 각 데이터는 학습을 위해 0~255에서 0~1사이의 숫자로 변환\n",
    "# X_train.reshape(X_train.shape[0], 784)\n",
    "# .astype('float32') # 255로 나누기 위해 float32로 반환\n",
    "#  / 255 # 0~1사이 값으로 만듦\n",
    "X_train = X_train.reshape(X_train.shape[0], 784).astype('float32') / 255\n",
    "X_test = X_test.reshape(X_test.shape[0], 784).astype('float32') / 255\n",
    "\n",
    "# 클래스를 학습에 이용하기 위해 데이터 가공\n",
    "Y_train = np_utils.to_categorical(Y_train, 10)\n",
    "Y_test = np_utils.to_categorical(Y_test, 10)\n",
    "\n",
    "# 딥러닝 모델 구조 설정(2개층, 512개의 뉴런 연결, 10개 클래스 출력 뉴런, 784개 픽셀 input 값, relu와 softmax 활성화 함수 이용)\n",
    "model = Sequential()\n",
    "model.add(Dense(512, input_dim=784, activation='relu'))\n",
    "model.add(Dense(10, activation='softmax'))\n",
    "\n",
    "# 딥러닝 구조 설정(loss 옵션을 다중 클래스에 적합한 categorical_crossentropy, 옵티마이저는 adam 설정)\n",
    "model.compile(loss='categorical_crossentropy', optimizer='adam',\n",
    "              metrics=['accuracy'])\n",
    "\n",
    "# 모델 실행(X_test, Y_test로 검증, 200개씩 30번 학습)\n",
    "model.fit(X_train, Y_train, validation_data=(X_test, Y_test), epochs=30, batch_size=200, verbose=2)\n",
    "\n",
    "# 학습 정확도, 검증 정확도 출력\n",
    "print('\\nAccuracy: {:.4f}'.format(model.evaluate(X_train, Y_train)[1]))\n",
    "print('\\nVal_Accuracy: {:.4f}'.format(model.evaluate(X_test, Y_test)[1]))\n",
    "\n",
    "# 모델 저장\n",
    "model.save('Predict_Model.h5')"
   ]
  },
  {
   "cell_type": "code",
   "execution_count": null,
   "metadata": {},
   "outputs": [],
   "source": [
    "# 모델 로드"
   ]
  },
  {
   "cell_type": "code",
   "execution_count": 80,
   "metadata": {},
   "outputs": [
    {
     "data": {
      "text/plain": [
       "<matplotlib.image.AxesImage at 0x1a0c88ae800>"
      ]
     },
     "execution_count": 80,
     "metadata": {},
     "output_type": "execute_result"
    },
    {
     "data": {
      "image/png": "[encoded data removed]",
      "text/plain": [
       "<Figure size 640x480 with 1 Axes>"
      ]
     },
     "metadata": {},
     "output_type": "display_data"
    }
   ],
   "source": [
    "# 딥러닝에 필요한 케라스 함수 호출\n",
    "from keras.models import load_model\n",
    "# from keras.utils import np_utils\n",
    "# import name 'np_utils' from 'keras.utils' 오류시 아래 명령어로 수행\n",
    "from tensorflow.python.keras.utils import np_utils\n",
    "\n",
    "# 필요 라이브러리 호출(PIL은 이미지파일 처리위함)\n",
    "from PIL import Image\n",
    "import numpy as np\n",
    "\n",
    "import matplotlib.pyplot as plt\n",
    "\n",
    "# text.png는 그림판에서 붓으로 숫자 7을 그린 이미지 파일\n",
    "# text.png 파일 열어서 L(256단계 흑백이미지)로 변환\n",
    "# img = Image.open(\"text.jpg\").convert(\"L\")\n",
    "img=X_test[5]\n",
    "\n",
    "plt.imshow(img, cmap='Greys')\n"
   ]
  },
  {
   "cell_type": "code",
   "execution_count": 81,
   "metadata": {},
   "outputs": [],
   "source": [
    "# 이미지를 784개 흑백 픽셀로 사이즈 변환\n",
    "img = np.resize(img, (1, 784))\n",
    "\n",
    "# 데이터를 모델에 적용할 수 있도록 가공\n",
    "test_data = ((np.array(img) / 255) - 1) * -1\n"
   ]
  },
  {
   "cell_type": "code",
   "execution_count": 82,
   "metadata": {},
   "outputs": [],
   "source": [
    "# 모델 불러오기\n",
    "model = load_model('Predict_Model.h5')\n",
    "\n"
   ]
  },
  {
   "cell_type": "code",
   "execution_count": 83,
   "metadata": {},
   "outputs": [
    {
     "name": "stdout",
     "output_type": "stream",
     "text": [
      "[5]\n"
     ]
    }
   ],
   "source": [
    "# 클래스 예측 함수에 가공된 테스트 데이터 넣어 결과 도출\n",
    "# res =(model.predict(test_data) > 0.5).astype(\"int32\")\n",
    "res=model.predict(test_data, verbose=0).argmax(axis=-1)\n",
    "\n",
    "print(res)"
   ]
  },
  {
   "cell_type": "code",
   "execution_count": 52,
   "metadata": {},
   "outputs": [
    {
     "data": {
      "image/png": "[encoded data removed]",
      "text/plain": [
       "<Figure size 640x480 with 1 Axes>"
      ]
     },
     "metadata": {},
     "output_type": "display_data"
    },
    {
     "name": "stdout",
     "output_type": "stream",
     "text": [
      "000  000  000  000  000  000  000  000  000  000  000  000  000  000  000  000  000  000  000  000  000  000  000  000  000  000  000  000  \n",
      "000  000  000  000  000  000  000  000  000  000  000  000  000  000  000  000  000  000  000  000  000  000  000  000  000  000  000  000  \n",
      "000  000  000  000  000  000  000  000  000  000  000  000  000  000  000  000  000  000  000  000  000  000  000  000  000  000  000  000  \n",
      "000  000  000  000  000  000  000  000  000  000  000  000  000  000  000  000  000  000  000  000  000  000  000  000  000  000  000  000  \n",
      "000  000  000  000  000  000  000  000  000  000  000  000  000  000  000  000  000  000  000  000  000  000  000  000  000  000  000  000  \n",
      "000  000  000  000  000  000  000  000  000  000  000  000  000  000  000  000  000  000  000  000  067  232  039  000  000  000  000  000  \n",
      "000  000  000  000  062  081  000  000  000  000  000  000  000  000  000  000  000  000  000  000  120  180  039  000  000  000  000  000  \n",
      "000  000  000  000  126  163  000  000  000  000  000  000  000  000  000  000  000  000  000  002  153  210  040  000  000  000  000  000  \n",
      "000  000  000  000  220  163  000  000  000  000  000  000  000  000  000  000  000  000  000  027  254  162  000  000  000  000  000  000  \n",
      "000  000  000  000  222  163  000  000  000  000  000  000  000  000  000  000  000  000  000  183  254  125  000  000  000  000  000  000  \n",
      "000  000  000  046  245  163  000  000  000  000  000  000  000  000  000  000  000  000  000  198  254  056  000  000  000  000  000  000  \n",
      "000  000  000  120  254  163  000  000  000  000  000  000  000  000  000  000  000  000  023  231  254  029  000  000  000  000  000  000  \n",
      "000  000  000  159  254  120  000  000  000  000  000  000  000  000  000  000  000  000  163  254  216  016  000  000  000  000  000  000  \n",
      "000  000  000  159  254  067  000  000  000  000  000  000  000  000  000  014  086  178  248  254  091  000  000  000  000  000  000  000  \n",
      "000  000  000  159  254  085  000  000  000  047  049  116  144  150  241  243  234  179  241  252  040  000  000  000  000  000  000  000  \n",
      "000  000  000  150  253  237  207  207  207  253  254  250  240  198  143  091  028  005  233  250  000  000  000  000  000  000  000  000  \n",
      "000  000  000  000  119  177  177  177  177  177  098  056  000  000  000  000  000  102  254  220  000  000  000  000  000  000  000  000  \n",
      "000  000  000  000  000  000  000  000  000  000  000  000  000  000  000  000  000  169  254  137  000  000  000  000  000  000  000  000  \n",
      "000  000  000  000  000  000  000  000  000  000  000  000  000  000  000  000  000  169  254  057  000  000  000  000  000  000  000  000  \n",
      "000  000  000  000  000  000  000  000  000  000  000  000  000  000  000  000  000  169  254  057  000  000  000  000  000  000  000  000  \n",
      "000  000  000  000  000  000  000  000  000  000  000  000  000  000  000  000  000  169  255  094  000  000  000  000  000  000  000  000  \n",
      "000  000  000  000  000  000  000  000  000  000  000  000  000  000  000  000  000  169  254  096  000  000  000  000  000  000  000  000  \n",
      "000  000  000  000  000  000  000  000  000  000  000  000  000  000  000  000  000  169  254  153  000  000  000  000  000  000  000  000  \n",
      "000  000  000  000  000  000  000  000  000  000  000  000  000  000  000  000  000  169  255  153  000  000  000  000  000  000  000  000  \n",
      "000  000  000  000  000  000  000  000  000  000  000  000  000  000  000  000  000  096  254  153  000  000  000  000  000  000  000  000  \n",
      "000  000  000  000  000  000  000  000  000  000  000  000  000  000  000  000  000  000  000  000  000  000  000  000  000  000  000  000  \n",
      "000  000  000  000  000  000  000  000  000  000  000  000  000  000  000  000  000  000  000  000  000  000  000  000  000  000  000  000  \n",
      "000  000  000  000  000  000  000  000  000  000  000  000  000  000  000  000  000  000  000  000  000  000  000  000  000  000  000  000  \n",
      "4\n"
     ]
    }
   ],
   "source": [
    "# 이미지 형태 출력을 위한 pyplot 모듈 import\n",
    "import matplotlib.pyplot as plt\n",
    "# 위 60000개 데이터 배열에서 0번째 원소를 흑백으로 출력\n",
    "plt.imshow(X_train[2], cmap='Greys')\n",
    "plt.show()\n",
    "\n",
    "################################\n",
    "import sys\n",
    "# 0번째 원소의 모든 데이터를 출력\n",
    "for x in X_train[2]:\n",
    "    for i in x:\n",
    "        sys.stdout.write('%03d  ' % i)\n",
    "    sys.stdout.write('\\n')\n",
    "\n",
    "print(Y_class_train[2])# 0번 원소 클래스 라벨링 정보"
   ]
  },
  {
   "attachments": {},
   "cell_type": "markdown",
   "metadata": {},
   "source": [
    "결론: 높은 예측률과 달리 답을 제대로 하지 못함.    \n",
    "개선 방법: 모델에 대한 이해 부족? 결과를 내는게 이상한 것으로 예측. colab에서 재 시도 진행"
   ]
  },
  {
   "attachments": {},
   "cell_type": "markdown",
   "metadata": {},
   "source": []
  }
 ],
 "metadata": {
  "kernelspec": {
   "display_name": "OCR",
   "language": "python",
   "name": "python3"
  },
  "language_info": {
   "codemirror_mode": {
    "name": "ipython",
    "version": 3
   },
   "file_extension": ".py",
   "mimetype": "text/x-python",
   "name": "python",
   "nbconvert_exporter": "python",
   "pygments_lexer": "ipython3",
   "version": "3.10.9"
  },
  "orig_nbformat": 4
 },
 "nbformat": 4,
 "nbformat_minor": 2
}
